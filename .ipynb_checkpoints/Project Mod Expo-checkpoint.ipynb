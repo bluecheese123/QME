{
 "cells": [
  {
   "cell_type": "code",
   "execution_count": 3,
   "id": "b1feb43c",
   "metadata": {},
   "outputs": [],
   "source": [
    "# Importing standard Qiskit libraries\n",
    "from qiskit import QuantumCircuit, QuantumRegister, ClassicalRegister, AncillaRegister, transpile, Aer\n",
    "from qiskit.tools.jupyter import *\n",
    "from qiskit.visualization import *\n",
    "\n",
    "from qiskit_ibm_runtime import QiskitRuntimeService, Sampler, Estimator, Session, Options\n",
    "\n",
    "# Loading your IBM Quantum account(s)\n",
    "service = QiskitRuntimeService(channel=\"ibm_quantum\", token=\"c463eb3a1524dd933346849aed0b3d884b3ddc61eb9b51bb3d5e72fc187dc2000f09df38138222cde9284c2aea7a3b3a3d2694a96ef869e88ceccb898dd0b747\")"
   ]
  },
  {
   "cell_type": "code",
   "execution_count": 4,
   "id": "94110e97",
   "metadata": {},
   "outputs": [],
   "source": [
    "#creating the 4-qubit carry circuit and reverse circuit for carrying operations for the adder\n",
    "\n",
    "carry_circuit = QuantumCircuit(4, name = \"CARRY\")\n",
    "carry_circuit.ccx(1,2,3)\n",
    "carry_circuit.cx(1,2)\n",
    "carry_circuit.ccx(0,2,3)\n",
    "carry_gate = carry_circuit.to_gate()\n",
    "\n",
    "reverse_carry_circuit = carry_circuit.inverse(name = \"REVCARRY\")\n",
    "reverse_carry_gate = reverse_carry_circuit.to_gate()"
   ]
  },
  {
   "cell_type": "code",
   "execution_count": null,
   "id": "cd733d6f",
   "metadata": {},
   "outputs": [],
   "source": [
    "#creating the 3-qubit sum circuit for summing the bits and storing bitwise outputs for adder\n",
    "\n",
    "sum_circuit = QuantumCircuit(3, name = \"SUM\")\n",
    "sum_circuit.cx(1,2)\n",
    "sum_circuit.cx(0,2)\n",
    "sum_gate = sum_circuit.to_gate()"
   ]
  },
  {
   "cell_type": "code",
   "execution_count": null,
   "id": "d7c71fd0",
   "metadata": {},
   "outputs": [],
   "source": [
    "#creating the plain adder circuit with three quantum registers\n",
    "#here qr_a is the register for the first value a, with n qubits\n",
    "#qr_b is the register for the second value b, with n+1 qubits, and it stores the value a+b in the end\n",
    "#qr_c is the ancilla register for storing carries, and has n-1 qubits\n",
    "\n",
    "#temporary: a,b are our values, encoded in n bits\n",
    "\n",
    "adder_circuit = QuantumCircuit(qr_a, qr_b, qr_c, name = \"ADDER\")\n",
    "\n",
    "n = qr_a.size()\n",
    "\n",
    "for i in range(1,n-1):\n",
    "    adder_circuit.append(carry_gate, qr_c[i-1], qr_a[i-1], qr_b[i-1], qr_c[i])\n",
    "    \n",
    "adder_circuit.append(carry_gate, qr_c[n-1], qr_a[n-1], qr_b[n-1], qr_b[n])\n",
    "\n",
    "adder_circuit.cx(qr_a[n-1], qr_b[n-1])\n",
    "\n",
    "for i in range(n-1, 0, -1):\n",
    "    adder_circuit.append(sum_gate, qr_c[i], qr_a[i], qr_b[i])\n",
    "    adder_circuit.append(reverse_carry_gate, qr_c[i-1], qr_a[i-1], qr_b[i-1], qr_c[i])\n",
    "    \n",
    "adder_circuit.append(sum_gate, qr_c[0], qr_a[0], qr_b[0])\n",
    "    \n",
    "adder_gate = adder_circuit.to_gate()\n",
    "\n",
    "reverse_adder_circuit = adder_circuit.inverse(name = \"REVADDER\")\n",
    "reverse_adder_gate = reverse_adder_circuit.to_gate()\n"
   ]
  },
  {
   "cell_type": "code",
   "execution_count": null,
   "id": "fa5f53aa",
   "metadata": {},
   "outputs": [],
   "source": [
    "#creating the adder mod circuit with 4 quantum registers\n",
    "#we want to compute a+b modulo N\n",
    "#here a,b<=N, and all are encoded in bits\n",
    "#qr_a and qr_b correspond to registers for a,b, and qr_N corresponds to N\n",
    "#while qr_0 is a single qubit register initialised to state 0\n",
    "#we also keep an ancilla register of size n-1, called qr_c for carries in the adder\n",
    "#qr_a qr_N are n qubit, qr_b is n+1 qubit and qr_c is n-1 qubit\n",
    "\n",
    "adder_mod_circuit = QuantumCircuit(qr_a, qr_b, qr_N, qr_0 name = \"ADDER MOD\")\n",
    "\n",
    "n = qr_a.size()\n",
    "\n",
    "adder_mod_circuit.append(adder_gate, qr_a, qr_b, qr_c)\n",
    "\n",
    "adder_mod_circuit.append(reverse_adder_gate, qr_N, qr_b, qr_c)\n",
    "\n",
    "adder_mod_circuit.x(qr_b[n])\n",
    "adder_mod_circuit.cx(qr_b[n], qr_0[0])\n",
    "adder_mod_circuit.x(qr_b[n])\n",
    "\n",
    "#making controlled adder gate\n",
    "c_adder = adder_gate.control()\n",
    "\n",
    "adder_mod_circuit.append(c_adder, qr_0[0], qr_N, qr_b, qr_c)\n",
    "\n",
    "adder_mod_circuit.append(reverse_adder_gate, qr_a, qr_b, qr_c)\n",
    "\n",
    "adder_mod_circuit.cx(qr_b[n], qr_0[0])\n",
    "\n",
    "adder_mod_circuit.append(adder_gate, qr_a, qr_b, qr_c)\n"
   ]
  },
  {
   "cell_type": "code",
   "execution_count": null,
   "id": "79fcb19e",
   "metadata": {},
   "outputs": [],
   "source": [
    "#creating the modular multiplication circuit\n",
    "#this is a controlled multiplication circuit\n",
    "#we have registers blah blah \n",
    "\n",
    "\n"
   ]
  },
  {
   "cell_type": "code",
   "execution_count": null,
   "id": "a4adb55c",
   "metadata": {},
   "outputs": [],
   "source": [
    "def ModExp(a,x,N): \n",
    "    \n",
    "    #converting to binary strings\n",
    "    \n",
    "    str_a = str(bin(a))\n",
    "    str_x = str(bin(x))\n",
    "    \n",
    "         \n",
    "    \n",
    "    \n",
    "    \n",
    "\n",
    "        \n",
    "    \n",
    "    "
   ]
  }
 ],
 "metadata": {
  "kernelspec": {
   "display_name": "Python 3 (ipykernel)",
   "language": "python",
   "name": "python3"
  },
  "language_info": {
   "codemirror_mode": {
    "name": "ipython",
    "version": 3
   },
   "file_extension": ".py",
   "mimetype": "text/x-python",
   "name": "python",
   "nbconvert_exporter": "python",
   "pygments_lexer": "ipython3",
   "version": "3.10.12"
  }
 },
 "nbformat": 4,
 "nbformat_minor": 5
}
